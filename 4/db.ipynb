{
 "cells": [
  {
   "cell_type": "code",
   "execution_count": null,
   "id": "93e2b827",
   "metadata": {
    "vscode": {
     "languageId": "plaintext"
    }
   },
   "outputs": [],
   "source": [
    "-- Создаем базу данных\n",
    "CREATE DATABASE library_db;\n",
    "\n",
    "-- Подключаемся к базе данных\n",
    "\\c library_db\n",
    "\n",
    "-- Создаем таблицу книг\n",
    "CREATE TABLE books (\n",
    "    id SERIAL PRIMARY KEY,\n",
    "    title VARCHAR(100) NOT NULL,\n",
    "    author VARCHAR(100) NOT NULL,\n",
    "    year_published INTEGER,\n",
    "    isbn VARCHAR(20),\n",
    "    created_at TIMESTAMP DEFAULT CURRENT_TIMESTAMP\n",
    ");\n",
    "\n",
    "-- Добавляем тестовые данные\n",
    "INSERT INTO books (title, author, year_published, isbn) VALUES\n",
    "('Война и мир', 'Лев Толстой', 1869, '978-5-389-06456-3'),\n",
    "('Преступление и наказание', 'Фёдор Достоевский', 1866, '978-5-699-40431-8'),\n",
    "('Мастер и Маргарита', 'Михаил Булгаков', 1967, '978-5-17-067842-4');"
   ]
  }
 ],
 "metadata": {
  "language_info": {
   "name": "python"
  }
 },
 "nbformat": 4,
 "nbformat_minor": 5
}
